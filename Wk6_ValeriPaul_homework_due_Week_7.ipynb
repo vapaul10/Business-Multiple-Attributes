{
  "nbformat": 4,
  "nbformat_minor": 0,
  "metadata": {
    "colab": {
      "name": "Wk6 ValeriPaul homework due Week 7.ipynb",
      "provenance": [],
      "collapsed_sections": [],
      "authorship_tag": "ABX9TyOSDVrOVMDLXVsRAgJeKm8B",
      "include_colab_link": true
    },
    "kernelspec": {
      "name": "python3",
      "display_name": "Python 3"
    }
  },
  "cells": [
    {
      "cell_type": "markdown",
      "metadata": {
        "id": "view-in-github",
        "colab_type": "text"
      },
      "source": [
        "<a href=\"https://colab.research.google.com/github/vapaul10/Business-Multiple-Attributes/blob/Week-7-Final/Wk6_ValeriPaul_homework_due_Week_7.ipynb\" target=\"_parent\"><img src=\"https://colab.research.google.com/assets/colab-badge.svg\" alt=\"Open In Colab\"/></a>"
      ]
    },
    {
      "cell_type": "markdown",
      "metadata": {
        "id": "CRXDkAUbrGa5"
      },
      "source": [
        "#1 Lecture Homework:\n",
        "1. Write a paragraph- can we have a negative of utility- yes/no, why?"
      ]
    },
    {
      "cell_type": "code",
      "metadata": {
        "id": "jJVE-fvbq_W5"
      },
      "source": [
        "### Remember from last class, one of the best methods for maximizing expected \n",
        "### utility in decision making is trade-off approach.  Trade-off can be cumbersome,\n",
        "###  because it is where you consider ALL the possible alternatives in calculating \n",
        "###  expected utility. These alternatives in EU provide consistencies of the\n",
        "### fundamental choices and related behavior patterns called axioms. \n",
        "### Axioms add a level of consistency to the reasons for decisions along with \n",
        "### their behavior patterns.   Like any rule there are exceptions, and the book \n",
        "### explains the expectations to axioms as paradoxes.\n",
        "\n",
        "###  In many situations, inconsistencies have little effect on decisions, \n",
        "### but there are times these inconsistencies cause trouble.  \n",
        "### To frame axioms using the book,  there are 7 axioms for expected utility, \n",
        "### 1). Ordering and transitivity, \n",
        "### 2) Reduction of compound uncertain events, \n",
        "### 3. Continuity, \n",
        "### 4. Substitutability, \n",
        "### 5. Monotonicity,\n",
        "### 6. Invariance and \n",
        "### 7) Finiteness. Finiteness is the axiom used in expected utility that\n",
        "###  it will never be infinite, and so we always will be able to make meaningful\n",
        "###   comparisons.    Another way to say it is, the problem with unbounded utility, \n",
        "###   means you cannot make a “finite” decision or locate the \n",
        "### “expected utility.”\n",
        "\n",
        "### With that said, the decision to believe and convert to an evangelist’s\n",
        "### religion to no matter how small the subjective probability is even slightly \n",
        "### positive, you must be compelled to “convert.”  Why? Any small positive \n",
        "### probability multiplied by the infinitely negative  utility will result in\n",
        "###  an infinitely negative expected utility.  Infinite positive utility \n",
        "### would do the same thing.  \n",
        "  \n",
        "### Expected utility amounts can be negative or positive because we use \n",
        "###  utility values based a strings of numbers rather than positive or negative \n",
        "### for comparison, not absolute values.\n"
      ],
      "execution_count": null,
      "outputs": []
    },
    {
      "cell_type": "markdown",
      "metadata": {
        "id": "mqTtp94sxv3y"
      },
      "source": [
        "#2 Lecture Homework:\n",
        "2.  As an exercise calculate the variance in the example for the Allais paradox from one of the examples and mention which one we would pick.  \n",
        "\n"
      ]
    },
    {
      "cell_type": "code",
      "metadata": {
        "id": "LGEdGvQfx7ug"
      },
      "source": [
        "###  In 2 decisions or games \n",
        "###  Game A\n",
        "###  Win $1 M at a probability of 1\n",
        "###  \n",
        "###  vs\n",
        "###  Game B\n",
        "###  Win $5 million with probability 0.10  Win \n",
        "###  $1 million with probability 0.89 \n",
        "###  Win $0 with probability 0.01 \n",
        "###  \n",
        "###  Folks overwhelming selected game A, at 89%\n",
        "###  When calculated with ULITITY Maximization \n",
        "###  U($0) = 0 and U($5,000,000) = 1, they are the best and the worst outcomes. \n",
        "###  \n",
        "###  In the research, \n",
        "###  A is preferred to B if and \n",
        "###  only if  (U)$1 million >  0:10 + 0:89 U($1 million)\n",
        "###  \n",
        "###  Or\n",
        "###  U($1 M) > 0.91\n",
        "###  \n",
        "###  Would you give up a sure $1 million for a small chance at $5 million \n",
        "###  and possibly nothing? \n",
        "###  \n",
        "###  Decision 2:\n",
        "###  C Win $1 million with probability 0.11\n",
        "###       Win $0 with probability 0.89 \n",
        "###  \n",
        "###  D Win $5 million with probability 0.10\n",
        "###      Win $0 with probability 0.90\n",
        "###  \n",
        "###  Now choose C or D in Decision 2\n",
        "###  \n",
        "###  \n",
        "###  Individuals overvalue, or place too much weight on a certain outcome relative  to uncertain outcomes, called certainty effect, \n",
        "###  \n",
        "###  In further analysis the using the sure-thing principle, which says that our preferences over lotteries or risky prospects should depend only on the parts of the lotteries that can lead to different outcomes.\n",
        "###  \n",
        "###  These outcomes with the same value  no matter what you choose, and the outcomes occur with the same probability regardless of the option chosen, then you can ignore this part of  the lottery. The sure-thing principle can be derived logically from our axioms.  It is better to think with consistency of these axioms. \n",
        "###  \n",
        "###  The interesting principle clarified the thinking Allias for me. \n",
        "###  A tax refund, which is seen as a gain is or can spent in the form of\n",
        "###  credit.  If it was income from labor it is treated difference.\n",
        "###  "
      ],
      "execution_count": null,
      "outputs": []
    },
    {
      "cell_type": "markdown",
      "metadata": {
        "id": "6hCYmwTax6mE"
      },
      "source": [
        "#3 Lecture Homework\n",
        "3.  Pick one of the 20 bias in which to example how it is a fallacy.  \n"
      ]
    },
    {
      "cell_type": "code",
      "metadata": {
        "id": "elxbz4_Py8rp"
      },
      "source": [
        "### STATUS QUO BIAS  \n",
        "### \n",
        "### When I am selling a new product or service, I approach the “pitch” \n",
        "### not about the product or the service first.  Instead I discuss or ask them \n",
        "### about their situation and their feelings about it.  In this approach\n",
        "###  I seek to identify their “pain-points.”  By identifying pain-points,\n",
        "###  I am able to gauge the important of a customer making a change to purchase\n",
        "###  something new that I can offer with my product or service.  \n",
        "### So, that is how I start to eliminate people bias to keep status quo.  \n",
        "### \n",
        "### I am an ethical sales person, so, I work with products and services \n",
        "### that will improve the quality of a persons work.  As the book states, \n",
        "### status quo bias can lead to poor decision quality.  \n",
        "### People hang-on to their status quo mindset by allowing it more weight \n",
        "### for no other reason than it is the status quo or they do not want to change.\n",
        "###  As a ethical salesperson, I know in good time an individual can change \n",
        "### their mind when they are ready to change.  So, I will wait. 😊\n",
        "### "
      ],
      "execution_count": null,
      "outputs": []
    },
    {
      "cell_type": "markdown",
      "metadata": {
        "id": "Vwcsq7-LyocL"
      },
      "source": [
        "# 4 Lecture Homework\n",
        "4. Consider money and fun not independent (use Sam Chu or your interaction for fun)\n",
        "\n",
        "https://drive.google.com/file/d/14BDICrzrZqIGPMkV86CglMDljAtdIHUi/view?usp=sharing"
      ]
    },
    {
      "cell_type": "code",
      "metadata": {
        "id": "FTLkzsDGzZwL"
      },
      "source": [
        "### Go to Drive ###\n",
        "### https://drive.google.com/file/d/14BDICrzrZqIGPMkV86CglMDljAtdIHUi/view?usp=sharing"
      ],
      "execution_count": null,
      "outputs": []
    },
    {
      "cell_type": "code",
      "metadata": {
        "id": "a-Du6DXgzZtF"
      },
      "source": [
        ""
      ],
      "execution_count": null,
      "outputs": []
    }
  ]
}