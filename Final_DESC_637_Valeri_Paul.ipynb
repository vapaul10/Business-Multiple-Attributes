{
  "nbformat": 4,
  "nbformat_minor": 0,
  "metadata": {
    "colab": {
      "name": "Final DESC 637 Valeri Paul",
      "provenance": [],
      "collapsed_sections": [],
      "authorship_tag": "ABX9TyNBoDzfQ3X9SH7hgKI9HN45",
      "include_colab_link": true
    },
    "kernelspec": {
      "name": "python3",
      "display_name": "Python 3"
    }
  },
  "cells": [
    {
      "cell_type": "markdown",
      "metadata": {
        "id": "view-in-github",
        "colab_type": "text"
      },
      "source": [
        "<a href=\"https://colab.research.google.com/github/vapaul10/Business-Multiple-Attributes/blob/Week-7-Final/Final_DESC_637_Valeri_Paul.ipynb\" target=\"_parent\"><img src=\"https://colab.research.google.com/assets/colab-badge.svg\" alt=\"Open In Colab\"/></a>"
      ]
    },
    {
      "cell_type": "markdown",
      "metadata": {
        "id": "sD3uqOsJ3YLr"
      },
      "source": [
        "# Valeri Paul\n",
        "DESC 637\n",
        "\n",
        "Professor Arash Vafanejad\n",
        "\n",
        "Due:  12-06-2020\n",
        "\n",
        " ### [Final](https://drive.google.com/file/d/1PGeKeniJGvlXWh4k762lRSWi5IZWPp1v/view?usp=sharing)\n"
      ]
    },
    {
      "cell_type": "markdown",
      "metadata": {
        "id": "QxHls4nw6D4Z"
      },
      "source": [
        "# Question #1\n",
        "\n",
        "1. Why is it important for decision makers to consider their attitudes toward risk?\n"
      ]
    },
    {
      "cell_type": "code",
      "metadata": {
        "id": "xhG_-S0x6K2x"
      },
      "source": [
        "### Q1 Answer\n",
        "###  Life is full of decisions, especially as an adult. \n",
        "###  Eventually, we learn where to identify consequences, \n",
        "### and measure the trade-offs.  The trade-off approach will help \n",
        "### to take a chance at something that is better or possibly winding up\n",
        "###  with something worse. Individuals, who are risk adverse about\n",
        "###  uncertain prospects may make different choices than those,\n",
        "###  who are risk seeking or even risk neutral. \n",
        "### In other words, one’s attitudes toward risk must be consider \n",
        "### when making decision recommendations to preferred alternative.  \n",
        "### All this reminds me that before making a recommendation, \n",
        "### it is important to know your audience!  😊\n",
        "### "
      ],
      "execution_count": null,
      "outputs": []
    },
    {
      "cell_type": "markdown",
      "metadata": {
        "id": "QFl4QIwx6cbV"
      },
      "source": [
        "#Question 2\n",
        "\n",
        "2.  We have not given a specific definition of risk. \n",
        "How would you define it?\n",
        "Give examples of lotteries that vary in riskiness in terms of your definition of risk.  Here the linked document.\n",
        "https://drive.google.com/file/d/1PGeKeniJGvlXWh4k762lRSWi5IZWPp1v/view?usp=sharing\n"
      ]
    },
    {
      "cell_type": "code",
      "metadata": {
        "id": "ggFaDNd26moc"
      },
      "source": [
        "### Answer includes linked document too! Here is the link:  \n",
        "### https://drive.google.com/file/d/1_Gg6f6tH4GPfiv8_dtnGhG8udonBkDio/view?usp=sharing\n",
        "###\n",
        "### Risk as presented in this class is multi-faceted.  \n",
        "### We initially calculated using the EMV.  \n",
        "### Yet, EMV does not capture risk attitudes. \n",
        "### Below are examples of definitions of different risk attitudes.\n",
        "### These are important to analysts because some people are risk adverse,\n",
        "### risk neutral and risk seeking.  \n",
        "### EMV calculations do not consider risk attitudes to \n",
        "### decision-making considerations. \n",
        "### To manage risk aversion to our arsenal of decision making is \n",
        "### utility function.  We can use a function table and graph it, too. \n",
        "### The more concave graph represents the more risk averse approach \n",
        "### to gamble or risk in the decision.\n",
        "\n"
      ],
      "execution_count": null,
      "outputs": []
    },
    {
      "cell_type": "markdown",
      "metadata": {
        "id": "k9CCr4T5_GCq"
      },
      "source": [
        "# Question 3\n",
        "  Explain in your own words the idea of a certainty equivalent."
      ]
    },
    {
      "cell_type": "code",
      "metadata": {
        "id": "DKKdrw47_Z04"
      },
      "source": [
        "###\n",
        "### In this class we learned how to calculate EMV and consider people’s \n",
        "### different risk attitudes. The other consideration to factor into \n",
        "### decision-making recommendations is certainty equivalent.  CE is an amount of \n",
        "### money or valued resource that a decision maker can have risk free and \n",
        "### balance that amount against a risky prospect.  \n",
        "\n",
        "### In one in example from the book, a business owner, invested $600,000 to \n",
        "### purchase share to avoid another risky situation, because the $600K in shares allowed him control of the railroad company.  The important part is when the amount of money (or valued resource) makes the gambler or investor \n",
        "###“indifferent.”  \n",
        "\n",
        "### To calculate in this CE, for example in stocks, \n",
        "### you can use an investor’s position on high stock and low stock.  \n",
        "### First, you must analyze the UTILITY or EU.  The investor can want \n",
        "### to invest $500 represented as U ($500).  \n",
        "### This means that the investor CE for the low-risk stock must be only\n",
        "###  a little more than $500. When that same investor considers \n",
        "### the gamble or investment into high risk stocks the amount\n",
        "###  must be less than $500, but not as little as $200 to be worth it.\n",
        "### \n",
        "### This criteria of least and high amounts allows us to rank the \n",
        "### investments by their CEs.  \n",
        "### Then we rank the alternatives by their CEs is the same as\n",
        "###  ranking by EUs. This allow the investor to analyze his or her\n",
        "###  indifference to a risk in the stocks.  \n",
        "### \n",
        "### For the investor, there is a point where the high-risk stock,\n",
        "###  has the lowest CE and is least preferred. \n",
        "###  While the low-risk stock, on the other hand, has the highest CE.\n",
        "### \n",
        "\n",
        "\n"
      ],
      "execution_count": null,
      "outputs": []
    },
    {
      "cell_type": "markdown",
      "metadata": {
        "id": "5-Ig_TZi_8UC"
      },
      "source": [
        "\n",
        "#Question 4 \n",
        "Two risky gambles were proposed in class (relating to chapter 14):\n",
        "Game 1: \n",
        "   Win $30 with probability 0.5\n",
        "\n",
        "   Lose $1 with probability 0.5\n",
        "\n",
        "  Game 2:\n",
        "  Win $2,000 with probability 0.5\n",
        "  \n",
        "  Lose $1,900 with probability 0.5\n",
        "\n",
        "   Many of us would probably pay to play Game 1 but would have to be paid to  participate in Game 2. \n",
        "\n",
        "    Is this true for you? How much would you pay (or have to be paid) to take   part in either game?\n"
      ]
    },
    {
      "cell_type": "code",
      "metadata": {
        "id": "DZValSEqAhrM"
      },
      "source": [
        "### Question 4 \n",
        "### Answer\n",
        "### For Game 1, if I had pay, I would be willing to play for $5.00. \n",
        "### Yes, I would play Game 1 at least 10 times.  \n",
        "\n",
        "### For Game 2, if I would not play unless you paid me $2000. \n",
        "###  I would not like to the possibility of losing, even $100.  \n",
        "### I am risk averse. \n"
      ],
      "execution_count": null,
      "outputs": []
    },
    {
      "cell_type": "markdown",
      "metadata": {
        "id": "71mScaVmA8Sf"
      },
      "source": [
        "# Question 5\n",
        "Assess your utility function in three different ways.\n",
        "a. Certainty Equivalents\n",
        "Use the certainty-equivalent approach to assess your utility function for wealth over a range of $100 to $20,000.\n",
        "\n",
        "\n",
        "b. Use the probability-equivalent approach to assess U($1,500), U($5,600), U($9,050), and U($13,700). Are these assessments consistent with the assessments made in part a?\n",
        "\n",
        "c. Use the trade-off method to assess your utility function for values ranging from $100 to $20,000. Plot the assessments from parts a, b, and c on the same graph and compare them. Why do you think they differ? \n",
        "Can you identify any biases in your assessment process?\n",
        "\n"
      ]
    },
    {
      "cell_type": "code",
      "metadata": {
        "id": "Z7WezvwmBKpV"
      },
      "source": [
        "### Question # 5 Answers Attached\n",
        "### https://drive.google.com/file/d/1PGeKeniJGvlXWh4k762lRSWi5IZWPp1v/view?usp=sharing\n"
      ],
      "execution_count": null,
      "outputs": []
    },
    {
      "cell_type": "markdown",
      "metadata": {
        "id": "y1tR9rVhBmUe"
      },
      "source": [
        "# Question 6\n",
        "From a decision-analysis perspective, why is it worthwhile to spend time studying the kinds of paradoxes described in class?"
      ]
    },
    {
      "cell_type": "code",
      "metadata": {
        "id": "qJfMJQBOB4Ig"
      },
      "source": [
        "### Axioms are reasons behind why people make decisions.  \n",
        "### These reasons do not always make sense. When using the structure \n",
        "### of an axiom decisions can be reasonable or at lease compelling.  \n",
        "### Yet, there are times we may not know all the reasons / alternates or\n",
        "###  constructs for human decisions. \n",
        "\n",
        "### These are times that actual choices are not consistent with the axioms. \n",
        "###  In multivariate attributes to decision making and being a \"good analyst\" \n",
        "### is to find out all the constructs.  AND provide all the possible \n",
        "### alternatives to inform good decision making. \n"
      ],
      "execution_count": null,
      "outputs": []
    }
  ]
}