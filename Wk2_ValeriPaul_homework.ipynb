{
  "nbformat": 4,
  "nbformat_minor": 0,
  "metadata": {
    "colab": {
      "name": "Wk2 ValeriPaul homework.ipynb",
      "provenance": [],
      "collapsed_sections": [],
      "authorship_tag": "ABX9TyPHu1TyWB2Psj0tRDzsr/lp",
      "include_colab_link": true
    },
    "kernelspec": {
      "name": "python3",
      "display_name": "Python 3"
    }
  },
  "cells": [
    {
      "cell_type": "markdown",
      "metadata": {
        "id": "view-in-github",
        "colab_type": "text"
      },
      "source": [
        "<a href=\"https://colab.research.google.com/github/vapaul10/Business-Multiple-Attributes/blob/Week-2-Homework/Wk2_ValeriPaul_homework.ipynb\" target=\"_parent\"><img src=\"https://colab.research.google.com/assets/colab-badge.svg\" alt=\"Open In Colab\"/></a>"
      ]
    },
    {
      "cell_type": "markdown",
      "metadata": {
        "id": "UoWgYXf7tj6m"
      },
      "source": [
        "#1 Lecture Homework:\n",
        "\n",
        "Write a paragraph that shows why making a decision is hard."
      ]
    },
    {
      "cell_type": "code",
      "metadata": {
        "id": "apv_Cioyx2aE"
      },
      "source": [
        "### Making a good decision is hard because of the complexity involved. \n",
        "### An analyst can be so helpful in decisions because an analyst can provide\n",
        "### different aspects of the decision.  Different mathematical models \n",
        "### can help managers make better decisions with mathematical models.\n",
        "### Again a good analyst helps remove the complexity of a decision. \n",
        "### It is important to remember that there is always one or more alternative \n",
        "### to a decision. If there were no alternatives, there would be no\n",
        "### “hard decision” to be made.\n",
        " \n"
      ],
      "execution_count": null,
      "outputs": []
    },
    {
      "cell_type": "markdown",
      "metadata": {
        "id": "ixaJK53ytt7V"
      },
      "source": [
        "# 2 Lecture Homework\n",
        "\n",
        "   Why do we want to have computer models?\n"
      ]
    },
    {
      "cell_type": "code",
      "metadata": {
        "id": "QvL2dBwt1Swu"
      },
      "source": [
        "### When faced with a decision, a computer model can support the need\n",
        "### to reassemble the parts of the problem and make it a simplified\n",
        "### representation.\n",
        "### Additionally, the representation allows the individual to see what \n",
        "### he or she needs to keep by the relevant pieces and \n",
        "### discard the irrelevant ones.\n",
        "\n",
        "### Additionally, a computer provides easy to view mathematical or graphical \n",
        "### models that can be used for formal analysis and allow an individual to have\n",
        "### insights that might not otherwise obvious.\n"
      ],
      "execution_count": null,
      "outputs": []
    },
    {
      "cell_type": "markdown",
      "metadata": {
        "id": "NMe0i3_41uMD"
      },
      "source": [
        "#3 Lecture Homework\n",
        "\n",
        "What is z-score\n",
        "\n",
        "\n"
      ]
    },
    {
      "cell_type": "code",
      "metadata": {
        "id": "71oMmQ7esS2d"
      },
      "source": [
        "###     z-SCORE Write a paragraph:\n",
        "### A normal distribution of data has mean. \n",
        "### The z-score is the amount of standard deviations  away from the mean.  \n",
        "### Z-score s how many standard devitations away from the mean. \n",
        "### Example: \n",
        "###   Scores on a test may be normally distribute with a mean of 81 and std deviation of 6.3. \n",
        "### 65 would be 81- 65 / 6.3 = 2.54\n",
        "\n"
      ],
      "execution_count": null,
      "outputs": []
    },
    {
      "cell_type": "markdown",
      "metadata": {
        "id": "mVx7WPg0AmK_"
      },
      "source": [
        "#4.  Lecture Homework\n",
        "\n",
        "What is the probability? Write a probability paragraph."
      ]
    },
    {
      "cell_type": "code",
      "metadata": {
        "id": "kQ8znk_kB2G8"
      },
      "source": [
        "### Probability is more than chance.  Probability is a \n",
        "### mathematical approach to figure out the odds of a score or \n",
        "### decision. Probabilty mus lie between 0 and 1. Nothing can have \n",
        "### more than a 100% chance or 0% chance of occurring. \n",
        "### Written as 0 <  p < 1\n"
      ],
      "execution_count": null,
      "outputs": []
    },
    {
      "cell_type": "code",
      "metadata": {
        "id": "eSWSYgZVtn8v"
      },
      "source": [
        ""
      ],
      "execution_count": null,
      "outputs": []
    },
    {
      "cell_type": "markdown",
      "metadata": {
        "id": "Tvs3vO_yCVNV"
      },
      "source": [
        "#5a Lecture Homework\n",
        "Read a case and define a mathematical model or problem for the computer."
      ]
    },
    {
      "cell_type": "markdown",
      "metadata": {
        "id": "YcWrQ_4vtmLt"
      },
      "source": [
        "5.  Calculate   Julie Myers calculation. A | B\n",
        "\n",
        "Example:\n",
        "\n",
        "            Cost = 200 * X1 + 165 * X2\n",
        "\n",
        "Calculate how much cost we expect to see\n",
        "\n",
        "ð  E(Cost) = 200* E(X1) + 165 * E(X2)\n",
        "ð  E(Cost) = 2005 + 1653.6 = $1594\n",
        "\n",
        "https://en.wikipedia.org/wiki/Bayes%27_theorem\n",
        "\n",
        "Bayes's theorem is stated mathematically as the following equation:[2]\n",
        "\n",
        "\n",
        "### P(A|B) = P(B|A) P(A) / P(B)\n",
        "\n",
        "---\n",
        "\n"
      ]
    },
    {
      "cell_type": "code",
      "metadata": {
        "id": "8gOwPo4zLKwr"
      },
      "source": [
        ""
      ],
      "execution_count": null,
      "outputs": []
    },
    {
      "cell_type": "markdown",
      "metadata": {
        "id": "c0MbmRwdGGOP"
      },
      "source": [
        "#5b Lecture Homework\n",
        "\n",
        "A fair coin is tossed three times. What is the probability of obtaining one Head and two Tails?\n",
        "(A fair coin is one that is not loaded, so there is an equal chance of it landing Heads up or Tails up.)"
      ]
    },
    {
      "cell_type": "code",
      "metadata": {
        "id": "6JGYibj9GPIV"
      },
      "source": [
        "### There 8 possible outcomes.  \n",
        "###    1\t     2\t     3\t     4\t     5\t     6\t     7\t    8\n",
        "### (H,H,H)\t(H,H,T)\t(H,T,H)\t(H,T,T)\t(T,H,H)\t(T,T,H)\t(T,H,T)\t(T,T,T)\n",
        "### (n = 0) (n = 0) (n = 0) (y = 1) (n = 0) (y = 1) (y = 1) (n = 0)\n",
        "### This reveals there are 3 x (Y = 1)\n",
        "### Which means 3 out of 8 toss of coins \n",
        "### there is a 3/8 probability the coins will turn up one Head and two Tails"
      ],
      "execution_count": null,
      "outputs": []
    },
    {
      "cell_type": "code",
      "metadata": {
        "id": "2SnXezRHGL4b"
      },
      "source": [
        ""
      ],
      "execution_count": null,
      "outputs": []
    }
  ]
}