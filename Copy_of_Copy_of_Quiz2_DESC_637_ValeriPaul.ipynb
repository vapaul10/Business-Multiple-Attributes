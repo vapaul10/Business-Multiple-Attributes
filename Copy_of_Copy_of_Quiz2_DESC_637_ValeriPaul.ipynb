{
  "nbformat": 4,
  "nbformat_minor": 0,
  "metadata": {
    "colab": {
      "name": "Copy of Copy of Quiz2_DESC_637_ValeriPaul.ipynb",
      "provenance": [],
      "collapsed_sections": [],
      "authorship_tag": "ABX9TyN8XL/HfTek6l+rBF+yJNuQ",
      "include_colab_link": true
    },
    "kernelspec": {
      "name": "python3",
      "display_name": "Python 3"
    }
  },
  "cells": [
    {
      "cell_type": "markdown",
      "metadata": {
        "id": "view-in-github",
        "colab_type": "text"
      },
      "source": [
        "<a href=\"https://colab.research.google.com/github/vapaul10/Business-Multiple-Attributes/blob/Week-6-Quiz-2/Copy_of_Copy_of_Quiz2_DESC_637_ValeriPaul.ipynb\" target=\"_parent\"><img src=\"https://colab.research.google.com/assets/colab-badge.svg\" alt=\"Open In Colab\"/></a>"
      ]
    },
    {
      "cell_type": "markdown",
      "metadata": {
        "id": "cGo0gOZYDfXo"
      },
      "source": [
        "#Q1  \t Plot Utilization  \n",
        "\n",
        " -5000  to 10000\n",
        "\n",
        " Dollar Value\tEMV\tR\tU(x)\n"
      ]
    },
    {
      "cell_type": "code",
      "metadata": {
        "id": "e600wge0Ecvb"
      },
      "source": [
        "### Here is link to my Google Drive where Quiz 2 is stored and can be reviewed\n",
        " \n",
        "### (https://drive.google.com/file/d/1wTe9wH_5mug7q9Ld9sFzaiOcH_lUhss1/view?usp=sharing)"
      ],
      "execution_count": null,
      "outputs": []
    },
    {
      "cell_type": "markdown",
      "metadata": {
        "id": "CzLocqKBDzPQ"
      },
      "source": [
        "#Q2:  Solve the game with the decision tree\n",
        "\n",
        "It includes chance of -1900 or 2000, and own subjective values.\n",
        "\n",
        "Quiz 2 Answer Sheet is in my Google Drive stored and can be reviewed\n",
        "(https://drive.google.com/file/d/1wTe9wH_5mug7q9Ld9sFzaiOcH_lUhss1/view?usp=sharing)\n"
      ]
    },
    {
      "cell_type": "markdown",
      "metadata": {
        "id": "MtM73MpMFIq6"
      },
      "source": [
        "#Q3 Compare 3 Approaches to Utilization Function Pros and Cons\n",
        "\n",
        "\n",
        "Quiz 2 Answer Sheet is in my Google Drive stored and can be reviewed\n",
        "(https://drive.google.com/file/d/1wTe9wH_5mug7q9Ld9sFzaiOcH_lUhss1/view?usp=sharing)\n",
        "\n"
      ]
    },
    {
      "cell_type": "code",
      "metadata": {
        "id": "ejOnWNsAFw6d"
      },
      "source": [
        "####Quiz 2 Question 3 Answer\n",
        "### Q3  Compare 3 approaches to Utilization Function Pros and cons\n",
        "### \n",
        "### Trade off (TO) \n",
        "### •\t**** This is the best approach for considering what amount makes you indifferent. ***\n",
        "### •\tIt handles all numbers including negative numbers better than the other.  \n",
        "### •\tTO method is insensitive to loss aversion\n",
        "### •\tNegative to TO method is that there are more questions to be asked in order to assess the utility function.\n",
        "### \n",
        "### Certainty Equivalent (CE):  Certainty of indifference can inference with this approach.  \n",
        "### •\tAdvantage:  CE is easy when you consider you have a value for 5 and exponential utility function.  The calculation is straight forward \n",
        "### •\tBe careful CE, may not be the same in all cases. \n",
        "### •\tCE doesn’t handle negative outcomes well\n",
        "### •\tCE is insensitive to loss aversion,  but biased by probability transformations\n",
        "### \n",
        "### Probability-Equivalent (PE) technique:   \n",
        "### •\tPE is both biased by probability transformation \n",
        "### •\tPE is another way to create a sure thing where you want to determine indifference.  For example, you can find U($65) because you know that U($100) = 1 and U($10) = 0.\n"
      ],
      "execution_count": null,
      "outputs": []
    },
    {
      "cell_type": "markdown",
      "metadata": {
        "id": "_Cz76nGYGJo5"
      },
      "source": [
        "Q4 Rank  the 3 Utilization Functions.  \n",
        "\n",
        " Answer Sheet is in my Google Drive stored and can be reviewed (https://drive.google.com/file/d/1wTe9wH_5mug7q9Ld9sFzaiOcH_lUhss1/view?usp=sharing)"
      ]
    },
    {
      "cell_type": "code",
      "metadata": {
        "id": "mF51bl3jGWUx"
      },
      "source": [
        "### Q4 Answer to Rank  the 3 Utilization Functions  \n",
        "###   \n",
        "###  Trade off (TO)  \n",
        "### •\t**** This is the best approach for considering what amount makes you indifferent. ***\n",
        "\n",
        "### Certainty Equivalent (CE): \n",
        "###    •\tCertainty of indifference can inference with this approach\n",
        "###    •\tAdvantage:  CE is easy when you consider you have a value for 5 and exponential utility function.  The calculation is straight forward \n",
        "###    •\tBut biased on the probability transformations.\n",
        "\n",
        "### Probability-Equivalent (PE) technique\n",
        "###    •\tAdvantage PE is another way to create a sure thing where you want to determine indifference.  For example, you can find U($75) because U($100) = 1 and U($10) = 0.\n",
        "###    •\tAlso, PE is bias to probability transformations \n"
      ],
      "execution_count": null,
      "outputs": []
    },
    {
      "cell_type": "markdown",
      "metadata": {
        "id": "rMCyULNJFnFr"
      },
      "source": [
        ""
      ]
    },
    {
      "cell_type": "code",
      "metadata": {
        "id": "TYbCg2LsDeUH"
      },
      "source": [
        ""
      ],
      "execution_count": null,
      "outputs": []
    }
  ]
}